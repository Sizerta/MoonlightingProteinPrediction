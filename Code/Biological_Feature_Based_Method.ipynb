{
  "cells": [
    {
      "cell_type": "markdown",
      "metadata": {
        "id": "zDQ8SF_uf4Zn"
      },
      "source": [
        "# Datasets Guide 📊\n",
        "\n",
        "#### Files ending with N1 to N5 is features for Mpfit Non-Mp samples\n",
        "#### and output to output5 is features for positive samples in Mpfit.\n",
        "\n",
        "#### Files ending with shp to shp5 is features for Shirafkan dataset positive samples\n",
        "#### and outputNsh1 to outputNs5 is features for negative samples in Shirafkan dataset.\n",
        "\n",
<<<<<<< HEAD
        "### ⭐ If you do not want to check all features. You can import AllFeaturesMpfit, AllFeaturesPlant, AllFeaturesShirafkan \n",
=======
>>>>>>> 88e7e5ff0d151825323fd9a2d216bca31d7b65db
        "#### Files ending with clean1 to clean5 is features for dataset with no overlap and there is no negative sample as you may know.\n",
        "#### 🔍 (Remember that cleaned-up dataset has no negative instances so for testing it change accordingly.)\n"
      ]
    },
    {
      "cell_type": "markdown",
      "metadata": {
        "id": "1yuizcOof4Zp"
      },
      "source": [
        "# Code guide ⌨️\n",
        "\n",
        "# (python 🐍)\n",
        "\n",
        "###  📥 Data Import Features that obtained using Ifeature package"
      ]
    },
    {
      "cell_type": "code",
<<<<<<< HEAD
      "execution_count": null,
=======
      "execution_count": 1,
>>>>>>> 88e7e5ff0d151825323fd9a2d216bca31d7b65db
      "metadata": {
        "colab": {
          "base_uri": "https://localhost:8080/"
        },
        "id": "cgoe7OPMf4Zp",
        "outputId": "a08c6c3a-68e2-4921-9592-51231b52fc50"
      },
      "outputs": [
        {
          "name": "stdout",
          "output_type": "stream",
          "text": [
            "                             \"#         A         C         D         E  \\\n",
            "0          \"sp|A4W2T1|ENO_STRS2  0.108046  0.002299  0.066667  0.087356   \n",
            "1  \"gi|146762537|gb|ABQ45367.1|  0.118721  0.006849  0.066210  0.066210   \n",
            "2          \"sp|A8AUR6|EFG_STRGC  0.088023  0.001443  0.060606  0.099567   \n",
            "3          \"sp|A8AY46|ENO_STRGC  0.108295  0.004608  0.069124  0.082949   \n",
            "4         \"sp|A9M296|DNAK_NEIM0  0.130841  0.003115  0.080997  0.090343   \n",
            "\n",
            "          F         G         H         I         K  ...  \\\n",
            "0  0.036782  0.105747  0.009195  0.075862  0.055172  ...   \n",
            "1  0.022831  0.079909  0.015982  0.063927  0.086758  ...   \n",
            "2  0.038961  0.077922  0.020202  0.066378  0.056277  ...   \n",
            "3  0.036866  0.103687  0.009217  0.078341  0.057604  ...   \n",
            "4  0.024922  0.079439  0.007788  0.073209  0.090343  ...   \n",
            "\n",
            "   solventaccess.2.residue0  solventaccess.2.residue25  \\\n",
            "0                  1.379310                  23.448276   \n",
            "1                  1.141553                  22.374429   \n",
            "2                  0.432900                  25.541126   \n",
            "3                  1.382488                  23.502304   \n",
            "4                  0.467290                  26.012461   \n",
            "\n",
            "   solventaccess.2.residue50  solventaccess.2.residue75  \\\n",
            "0                  57.011494                  76.091954   \n",
            "1                  53.196347                  74.885845   \n",
            "2                  49.350649                  71.572872   \n",
            "3                  57.603687                  76.728111   \n",
            "4                  50.778816                  80.218069   \n",
            "\n",
            "   solventaccess.2.residue100  solventaccess.3.residue0  \\\n",
            "0                  100.000000                  0.229885   \n",
            "1                   99.771689                  0.228311   \n",
            "2                   99.855700                  0.144300   \n",
            "3                  100.000000                  0.230415   \n",
            "4                  100.000000                  0.155763   \n",
            "\n",
            "   solventaccess.3.residue25  solventaccess.3.residue50  \\\n",
            "0                  23.218391                  45.977011   \n",
            "1                  23.059361                  45.890411   \n",
            "2                  21.067821                  48.484848   \n",
            "3                  23.041475                  43.087558   \n",
            "4                  21.962617                  49.376947   \n",
            "\n",
            "   solventaccess.3.residue75  solventaccess.3.residue100\"  \n",
            "0                  75.402299           99.08045977011494\"  \n",
            "1                  70.776256                       100.0\"  \n",
            "2                  77.633478           99.42279942279943\"  \n",
            "3                  74.884793           99.07834101382488\"  \n",
            "4                  68.535826           96.88473520249221\"  \n",
            "\n",
            "[5 rows x 698 columns]\n",
            "                       \"#         A         C         D         E         F  \\\n",
            "0   \"sp|Q14676|MDC1_HUMAN  0.068933  0.009574  0.048827  0.097654  0.015318   \n",
            "1   \"sp|Q14442|PIGH_HUMAN  0.058511  0.047872  0.037234  0.058511  0.037234   \n",
            "2    \"sp|Q13336|UT1_HUMAN  0.079692  0.025707  0.030848  0.023136  0.051414   \n",
            "3  \"sp|P62995|TRA2B_HUMAN  0.041667  0.006944  0.065972  0.038194  0.020833   \n",
            "4  \"sp|Q13325|IFIT5_HUMAN  0.087137  0.016598  0.051867  0.095436  0.039419   \n",
            "\n",
            "          G         H         I         K  ...  solventaccess.2.residue0  \\\n",
            "0  0.053614  0.016276  0.026807  0.049306  ...                  0.095740   \n",
            "1  0.047872  0.015957  0.090426  0.042553  ...                  1.063830   \n",
            "2  0.079692  0.007712  0.053985  0.033419  ...                  0.514139   \n",
            "3  0.093750  0.031250  0.020833  0.024306  ...                  1.041667   \n",
            "4  0.039419  0.035270  0.047718  0.101660  ...                  0.622407   \n",
            "\n",
            "   solventaccess.2.residue25  solventaccess.2.residue50  \\\n",
            "0                  22.642413                  44.327429   \n",
            "1                  14.893617                  57.446809   \n",
            "2                  12.339332                  35.732648   \n",
            "3                  22.569444                  48.611111   \n",
            "4                  23.236515                  48.755187   \n",
            "\n",
            "   solventaccess.2.residue75  solventaccess.2.residue100  \\\n",
            "0                  72.714217                   99.808521   \n",
            "1                  76.063830                   96.808511   \n",
            "2                  74.293059                   99.228792   \n",
            "3                  75.694444                   99.652778   \n",
            "4                  75.103734                   99.377593   \n",
            "\n",
            "   solventaccess.3.residue0  solventaccess.3.residue25  \\\n",
            "0                  0.047870                  34.705601   \n",
            "1                  0.531915                  22.340426   \n",
            "2                  0.257069                  29.562982   \n",
            "3                  0.347222                  21.875000   \n",
            "4                  0.207469                  27.178423   \n",
            "\n",
            "   solventaccess.3.residue50  solventaccess.3.residue75  \\\n",
            "0                  58.305409                  75.011967   \n",
            "1                  53.723404                  76.595745   \n",
            "2                  49.614396                  76.349614   \n",
            "3                  39.583333                  73.958333   \n",
            "4                  53.734440                  76.970954   \n",
            "\n",
            "   solventaccess.3.residue100\"  \n",
            "0                       100.0\"  \n",
            "1                       100.0\"  \n",
            "2           99.74293059125964\"  \n",
            "3                       100.0\"  \n",
            "4           99.79253112033194\"  \n",
            "\n",
            "[5 rows x 698 columns]\n",
            "428\n"
          ]
        }
      ],
      "source": [
        "import pandas as pd\n",
        "import random\n",
        "random.seed(1)\n",
        "\n",
        "\n",
        "df1 = pd.read_csv(\n",
        "    \"..\\\\Data\\\\Biological Features\\\\output.csv\", sep='\\t', quoting=3)\n",
        "\n",
        "df2 = pd.read_csv(\n",
        "    \"..\\\\Data\\\\Biological Features\\\\output2.csv\", sep='\\t', quoting=3)\n",
        "df3 = pd.read_csv(\n",
        "    \"..\\\\Data\\\\Biological Features\\\\output3.csv\", sep='\\t', quoting=3)\n",
        "df4 = pd.read_csv(\n",
        "    \"..\\\\Data\\\\Biological Features\\\\output4.csv\", sep='\\t', quoting=3)\n",
        "df5 = pd.read_csv(\n",
        "    \"..\\\\Data\\\\Biological Features\\\\output5.csv\", sep='\\t', quoting=3)\n",
        "\n",
        "\n",
        "df_class1 = pd.concat([df1, df2, df3, df4, df5], axis=1)\n",
        "\n",
        "print(df_class1.head())\n",
        "\n",
        "\n",
        "df1 = pd.read_csv(\n",
        "    \"..\\\\Data\\\\Biological Features\\\\outputN1.csv\", sep='\\t', quoting=3)\n",
        "df2 = pd.read_csv(\n",
        "    \"..\\\\Data\\\\Biological Features\\\\outputN2.csv\", sep='\\t', quoting=3)\n",
        "df3 = pd.read_csv(\n",
        "    \"..\\\\Data\\\\Biological Features\\\\outputN3.csv\", sep='\\t', quoting=3)\n",
        "df4 = pd.read_csv(\n",
        "    \"..\\\\Data\\\\Biological Features\\\\outputN4.csv\", sep='\\t', quoting=3)\n",
        "df5 = pd.read_csv(\n",
        "    \"..\\\\Data\\\\Biological Features\\\\outputN5.csv\", sep='\\t', quoting=3)\n",
        "\n",
        "df_class2 = pd.concat([df1, df2, df3, df4, df5], axis=1)\n",
        "\n",
        "print(df_class2.head())\n",
        "\n",
        "df = pd.concat([df_class1, df_class2], axis=0)\n",
        "\n",
<<<<<<< HEAD
        "# Or you can import AllFeaturesMpfit, AllFeaturesPlant, AllFeaturesShirafkan\n",
        "\n",
=======
>>>>>>> 88e7e5ff0d151825323fd9a2d216bca31d7b65db
        "print(len(df))  # check the resulting DataFrame"
      ]
    },
    {
      "cell_type": "markdown",
      "metadata": {
        "id": "6OheXBGJf4Zq"
      },
      "source": [
        "### 🦠🖥️Top Biological Features  which Extracted using Biopython and combining with previous features"
      ]
    },
    {
      "cell_type": "markdown",
      "metadata": {},
      "source": [
        "#### 🔍 You can extract these top features yourself\n",
        "#### by using TopFeaturesExtractor.ipynb in Biological method data part"
      ]
    },
    {
      "cell_type": "code",
<<<<<<< HEAD
      "execution_count": 23,
=======
      "execution_count": 2,
>>>>>>> 88e7e5ff0d151825323fd9a2d216bca31d7b65db
      "metadata": {},
      "outputs": [
        {
          "name": "stdout",
          "output_type": "stream",
          "text": [
            "267\n",
            "161\n"
          ]
        }
      ],
      "source": [
        "print(len(df_class1))\n",
        "print(len(df_class2))"
      ]
    },
    {
      "cell_type": "code",
<<<<<<< HEAD
      "execution_count": 24,
=======
      "execution_count": 3,
>>>>>>> 88e7e5ff0d151825323fd9a2d216bca31d7b65db
      "metadata": {
        "colab": {
          "base_uri": "https://localhost:8080/"
        },
        "id": "3ITd99Mqf4Zq",
        "outputId": "d3cb76f5-92bb-4b28-f000-e5c47bb43197"
      },
      "outputs": [
        {
          "name": "stdout",
          "output_type": "stream",
          "text": [
            "<class 'pandas.core.frame.DataFrame'>\n",
            "RangeIndex: 428 entries, 0 to 427\n",
            "Columns: 697 entries, A to target\n",
            "dtypes: float64(695), int64(2)\n",
            "memory usage: 2.3 MB\n",
            "None\n",
            "DataFrame shape: (428, 697)\n"
          ]
        }
      ],
      "source": [
        "import numpy as np\n",
        "df_top8 = pd.read_csv(\n",
        "    \"..\\\\Data\\\\Biological Features\\\\Top8V2.tsv\", sep='\\t')\n",
        "\n",
        "df = df.reset_index(drop=True)\n",
        "df_top8 = df_top8.reset_index(drop=True)\n",
        "df = pd.concat([df, df_top8], axis=1)\n",
        "\n",
        "df['target'] = [1] * 267 + [0] * 161 # Number of Positive and Negative Instances change if you change datasets\n",
        "# Shuffle the data\n",
        "df = df.sample(frac=1).reset_index(drop=True)\n",
        "\n",
        "\n",
        "# Assuming your DataFrame is named 'df'\n",
        "\n",
        "# Select only numeric columns\n",
        "numeric_columns = df.select_dtypes(include=[np.number]).columns\n",
        "df = df[numeric_columns]\n",
        "\n",
        "# Print the resulting DataFrame info\n",
        "print(df.info())\n",
        "print(f\"DataFrame shape: {df.shape}\")\n",
        "X = df.drop(columns=['target'])\n",
        "y = df['target']"
      ]
    },
    {
      "cell_type": "markdown",
      "metadata": {
        "id": "F8TCL9x7f4Zq"
      },
      "source": [
        "## 🧩 Selecting Features"
      ]
    },
    {
      "cell_type": "code",
<<<<<<< HEAD
      "execution_count": 25,
=======
      "execution_count": 4,
>>>>>>> 88e7e5ff0d151825323fd9a2d216bca31d7b65db
      "metadata": {
        "colab": {
          "base_uri": "https://localhost:8080/"
        },
        "id": "EK3q3a81f4Zq",
        "outputId": "ef519942-dd0a-4149-a403-0538ae89d317"
      },
      "outputs": [
        {
          "name": "stdout",
          "output_type": "stream",
          "text": [
<<<<<<< HEAD
            "Top features: Index(['hydrophobicity_ZIMJ680101.1.residue100',\n",
            "       'hydrophobicity_PONP930101.G2', 'NI', 'GQ', 'LF', 'C', 'CQ', 'TE', 'GV',\n",
            "       'VA', 'polarity.Tr2332', 'WM', 'FS', 'KG',\n",
            "       'hydrophobicity_CASG920101.1.residue50', 'QR',\n",
            "       'hydrophobicity_FASG890101.Tr2332', 'charge.Tr2332',\n",
            "       'hydrophobicity_PONP930101.Tr1221', 'GG',\n",
            "       'hydrophobicity_ZIMJ680101.Tr1221', 'polarizability.2.residue100', 'LS',\n",
            "       'TM', 'IK', 'hydrophobicity_FASG890101.Tr1221', 'W',\n",
            "       'hydrophobicity_PRAM900101.Tr2332', 'VT', 'EA',\n",
            "       'hydrophobicity_ENGD860101.Tr2332', 'Q', 'FY', 'IF',\n",
            "       'hydrophobicity_ARGP820101.G3', 'sequence_length', 'SP',\n",
            "       'secondarystruct.1.residue75', 'polarity.1.residue0', 'DA',\n",
            "       'normwaalsvolume.3.residue0', 'hydrophobicity_PONP930101.3.residue0',\n",
            "       'hydrophobicity_ENGD860101.3.residue0', 'LQ', 'SS',\n",
            "       'hydrophobicity_PRAM900101.3.residue0', 'VI', 'charge.2.residue0', 'LL',\n",
            "       'polarizability.3.residue0', 'hydrophobicity_ZIMJ680101.2.residue0',\n",
            "       'secondarystruct.G2', 'charge.Tr1221', 'solventaccess.3.residue0', 'PG',\n",
            "       'hydrophobicity_CASG920101.2.residue0',\n",
            "       'hydrophobicity_ARGP820101.2.residue0', 'DG', 'DR', 'isoelectric_point',\n",
            "       'secondarystruct.1.residue0', 'solventaccess.G1', 'polarity.Tr1221',\n",
            "       'AS', 'solventaccess.Tr1331', 'hydrophobicity_FASG890101.3.residue0',\n",
            "       'TN', 'AQ', 'RI', 'hydrophobicity_CASG920101.1.residue25', 'F',\n",
            "       'hydrophobicity_CASG920101.Tr2332', 'AK', 'charge.G1', 'S', 'YG', 'AV',\n",
            "       'TI', 'GK', 'hydrophobicity_ENGD860101.G1', 'IA', 'polarity.G3', 'LC',\n",
            "       'hydrophobicity_PONP930101.G3', 'polarity.G1', 'charge.G2',\n",
            "       'polarity.Tr1331', 'hydrophobicity_PRAM900101.G1', 'solventaccess.G2',\n",
            "       'hydrophobicity_FASG890101.G1', 'hydrophobicity_FASG890101.G3',\n",
            "       'hydrophobicity_CASG920101.G1', 'hydrophobicity_PONP930101.G1',\n",
            "       'instability_index', 'hydrophobicity_ENGD860101.G3',\n",
=======
            "Top features: Index(['KG', 'polarity.Tr2332', 'DW', 'hydrophobicity_PONP930101.G2', 'PG',\n",
            "       'KD', 'hydrophobicity_PONP930101.1.residue100',\n",
            "       'hydrophobicity_PONP930101.2.residue0', 'GV', 'IT', 'charge.Tr2332',\n",
            "       'hydrophobicity_ENGD860101.Tr1331',\n",
            "       'hydrophobicity_CASG920101.1.residue50', 'GQ', 'KL', 'WT', 'YM', 'IA',\n",
            "       'hydrophobicity_PONP930101.Tr1221', 'EF', 'RN', 'HS', 'LS',\n",
            "       'hydrophobicity_ZIMJ680101.Tr1221', 'hydrophobicity_FASG890101.Tr2332',\n",
            "       'Q', 'hydrophobicity_PRAM900101.Tr2332', 'DG', 'TN',\n",
            "       'hydrophobicity_FASG890101.Tr1221', 'TQ', 'SS', 'YG', 'W', 'AQ', 'YH',\n",
            "       'EA', 'hydrophobicity_ENGD860101.Tr2332',\n",
            "       'hydrophobicity_PONP930101.3.residue0', 'LC', 'IN', 'LQ',\n",
            "       'hydrophobicity_ARGP820101.G3', 'secondarystruct.1.residue75',\n",
            "       'charge.2.residue0', 'DA', 'charge.Tr1221', 'polarizability.3.residue0',\n",
            "       'VT', 'FS', 'hydrophobicity_ENGD860101.3.residue0',\n",
            "       'solventaccess.3.residue0', 'polarity.1.residue0', 'IK',\n",
            "       'hydrophobicity_PRAM900101.3.residue0', 'GK', 'secondarystruct.G2',\n",
            "       'normwaalsvolume.3.residue0', 'hydrophobicity_ZIMJ680101.2.residue0',\n",
            "       'hydrophobicity_ARGP820101.2.residue0',\n",
            "       'hydrophobicity_CASG920101.2.residue0', 'RI',\n",
            "       'hydrophobicity_FASG890101.3.residue0', 'isoelectric_point',\n",
            "       'sequence_length', 'solventaccess.G1', 'AV',\n",
            "       'secondarystruct.1.residue0', 'DR', 'polarity.Tr1221', 'AS', 'LL',\n",
            "       'solventaccess.Tr1331', 'TI', 'hydrophobicity_CASG920101.1.residue25',\n",
            "       'F', 'hydrophobicity_CASG920101.Tr2332', 'charge.G1', 'S', 'CL', 'AK',\n",
            "       'hydrophobicity_ENGD860101.G1', 'charge.G2',\n",
            "       'hydrophobicity_PONP930101.G3', 'polarity.G1', 'polarity.Tr1331',\n",
            "       'polarity.G3', 'hydrophobicity_PRAM900101.G1', 'solventaccess.G2',\n",
            "       'hydrophobicity_FASG890101.G1', 'hydrophobicity_CASG920101.G1',\n",
            "       'hydrophobicity_FASG890101.G3', 'hydrophobicity_ENGD860101.G3',\n",
            "       'hydrophobicity_PONP930101.G1', 'instability_index',\n",
>>>>>>> 88e7e5ff0d151825323fd9a2d216bca31d7b65db
            "       'hydrophobicity_PRAM900101.Tr1221', 'hydrophobicity_CASG920101.Tr1221',\n",
            "       'solventaccess.Tr1221', 'gravy', 'hydrophobicity_PRAM900101.G3'],\n",
            "      dtype='object')\n"
          ]
        }
      ],
      "source": [
        "from sklearn.feature_selection import mutual_info_classif\n",
        "\n",
        "# Calculate mutual information\n",
        "df_features = df.drop(columns=['target'], axis=1)\n",
        "mi = mutual_info_classif(df_features, df['target'])\n",
        "\n",
        "# Get the top 50 features with the highest mutual information\n",
        "top_features = df_features.columns[mi.argsort()[-100:]]\n",
        "print(\"Top features:\", top_features)"
      ]
    },
    {
      "cell_type": "markdown",
      "metadata": {
        "id": "eQcPPpfpf4Zr"
      },
      "source": [
        "## 🔮 Model Building and Testing on Mpfit"
      ]
    },
    {
      "cell_type": "code",
<<<<<<< HEAD
      "execution_count": 26,
=======
      "execution_count": null,
>>>>>>> 88e7e5ff0d151825323fd9a2d216bca31d7b65db
      "metadata": {
        "colab": {
          "base_uri": "https://localhost:8080/"
        },
        "id": "qP3TWr4Zf4Zr",
        "outputId": "b7c7718c-3bff-43ff-b74f-e42808af7ef8"
      },
      "outputs": [
        {
          "name": "stdout",
          "output_type": "stream",
          "text": [
            "Extra Trees Classifier:\n",
<<<<<<< HEAD
            "Fold 1: Accuracy = 0.85, Precision = 0.88, Recall = 0.87, F1 = 0.87, AUROC = 0.96, AUPRC = 0.98\n",
            "Fold 2: Accuracy = 0.83, Precision = 0.80, Recall = 0.94, F1 = 0.86, AUROC = 0.92, AUPRC = 0.91\n",
            "Fold 3: Accuracy = 0.80, Precision = 0.84, Recall = 0.85, F1 = 0.85, AUROC = 0.87, AUPRC = 0.92\n",
            "Fold 4: Accuracy = 0.84, Precision = 0.85, Recall = 0.89, F1 = 0.87, AUROC = 0.93, AUPRC = 0.96\n",
            "Fold 5: Accuracy = 0.92, Precision = 0.92, Recall = 0.96, F1 = 0.94, AUROC = 0.95, AUPRC = 0.96\n",
            "Mean Accuracy: 0.85, Mean Precision: 0.86, Mean Recall: 0.90, Mean F1: 0.88, Mean AUROC: 0.93, Mean AUPRC: 0.95\n",
            "\n",
            "SVC:\n",
            "Fold 1: Accuracy = 0.86, Precision = 0.86, Recall = 0.92, F1 = 0.89, AUROC = 0.93, AUPRC = 0.95\n",
            "Fold 2: Accuracy = 0.84, Precision = 0.85, Recall = 0.88, F1 = 0.87, AUROC = 0.89, AUPRC = 0.93\n",
            "Fold 3: Accuracy = 0.83, Precision = 0.86, Recall = 0.87, F1 = 0.86, AUROC = 0.86, AUPRC = 0.90\n",
            "Fold 4: Accuracy = 0.85, Precision = 0.86, Recall = 0.91, F1 = 0.88, AUROC = 0.91, AUPRC = 0.95\n",
            "Fold 5: Accuracy = 0.81, Precision = 0.88, Recall = 0.82, F1 = 0.85, AUROC = 0.92, AUPRC = 0.96\n",
            "Mean Accuracy: 0.84, Mean Precision: 0.86, Mean Recall: 0.88, Mean F1: 0.87, Mean AUROC: 0.90, Mean AUPRC: 0.94\n",
=======
            "Fold 1: Accuracy = 0.81, Precision = 0.83, Recall = 0.86, F1 = 0.85, AUROC = 0.90, AUPRC = 0.91\n",
            "Fold 2: Accuracy = 0.81, Precision = 0.76, Recall = 0.98, F1 = 0.85, AUROC = 0.94, AUPRC = 0.95\n",
            "Fold 3: Accuracy = 0.85, Precision = 0.84, Recall = 0.92, F1 = 0.88, AUROC = 0.97, AUPRC = 0.98\n",
            "Fold 4: Accuracy = 0.86, Precision = 0.88, Recall = 0.91, F1 = 0.90, AUROC = 0.92, AUPRC = 0.96\n",
            "Fold 5: Accuracy = 0.87, Precision = 0.91, Recall = 0.90, F1 = 0.90, AUROC = 0.92, AUPRC = 0.92\n",
            "Mean Accuracy: 0.84, Mean Precision: 0.85, Mean Recall: 0.92, Mean F1: 0.88, Mean AUROC: 0.93, Mean AUPRC: 0.95\n",
            "\n",
            "SVC:\n",
            "Fold 1: Accuracy = 0.81, Precision = 0.84, Recall = 0.84, F1 = 0.84, AUROC = 0.88, AUPRC = 0.90\n",
            "Fold 2: Accuracy = 0.81, Precision = 0.79, Recall = 0.92, F1 = 0.85, AUROC = 0.92, AUPRC = 0.94\n",
            "Fold 3: Accuracy = 0.88, Precision = 0.88, Recall = 0.94, F1 = 0.91, AUROC = 0.95, AUPRC = 0.97\n",
            "Fold 4: Accuracy = 0.85, Precision = 0.85, Recall = 0.93, F1 = 0.89, AUROC = 0.86, AUPRC = 0.92\n",
            "Fold 5: Accuracy = 0.84, Precision = 0.89, Recall = 0.86, F1 = 0.88, AUROC = 0.89, AUPRC = 0.94\n",
            "Mean Accuracy: 0.84, Mean Precision: 0.85, Mean Recall: 0.90, Mean F1: 0.87, Mean AUROC: 0.90, Mean AUPRC: 0.94\n",
>>>>>>> 88e7e5ff0d151825323fd9a2d216bca31d7b65db
            "\n"
          ]
        },
        {
          "name": "stderr",
          "output_type": "stream",
          "text": [
            "C:\\Users\\Lenovo\\AppData\\Roaming\\Python\\Python310\\site-packages\\sklearn\\neural_network\\_multilayer_perceptron.py:691: ConvergenceWarning: Stochastic Optimizer: Maximum iterations (200) reached and the optimization hasn't converged yet.\n",
            "  warnings.warn(\n",
            "C:\\Users\\Lenovo\\AppData\\Roaming\\Python\\Python310\\site-packages\\sklearn\\neural_network\\_multilayer_perceptron.py:691: ConvergenceWarning: Stochastic Optimizer: Maximum iterations (200) reached and the optimization hasn't converged yet.\n",
            "  warnings.warn(\n",
            "C:\\Users\\Lenovo\\AppData\\Roaming\\Python\\Python310\\site-packages\\sklearn\\neural_network\\_multilayer_perceptron.py:691: ConvergenceWarning: Stochastic Optimizer: Maximum iterations (200) reached and the optimization hasn't converged yet.\n",
            "  warnings.warn(\n",
            "C:\\Users\\Lenovo\\AppData\\Roaming\\Python\\Python310\\site-packages\\sklearn\\neural_network\\_multilayer_perceptron.py:691: ConvergenceWarning: Stochastic Optimizer: Maximum iterations (200) reached and the optimization hasn't converged yet.\n",
            "  warnings.warn(\n",
            "C:\\Users\\Lenovo\\AppData\\Roaming\\Python\\Python310\\site-packages\\sklearn\\neural_network\\_multilayer_perceptron.py:691: ConvergenceWarning: Stochastic Optimizer: Maximum iterations (200) reached and the optimization hasn't converged yet.\n",
            "  warnings.warn(\n"
          ]
        },
        {
          "name": "stdout",
          "output_type": "stream",
          "text": [
            "MLP:\n",
<<<<<<< HEAD
            "Fold 1: Accuracy = 0.87, Precision = 0.90, Recall = 0.88, F1 = 0.89, AUROC = 0.92, AUPRC = 0.95\n",
            "Fold 2: Accuracy = 0.83, Precision = 0.81, Recall = 0.92, F1 = 0.86, AUROC = 0.89, AUPRC = 0.93\n",
            "Fold 3: Accuracy = 0.79, Precision = 0.84, Recall = 0.84, F1 = 0.84, AUROC = 0.84, AUPRC = 0.89\n",
            "Fold 4: Accuracy = 0.85, Precision = 0.87, Recall = 0.89, F1 = 0.88, AUROC = 0.91, AUPRC = 0.94\n",
            "Fold 5: Accuracy = 0.81, Precision = 0.92, Recall = 0.79, F1 = 0.85, AUROC = 0.92, AUPRC = 0.96\n",
            "Mean Accuracy: 0.83, Mean Precision: 0.87, Mean Recall: 0.86, Mean F1: 0.86, Mean AUROC: 0.90, Mean AUPRC: 0.93\n",
            "\n",
            "Random Forest Classifier:\n",
            "Fold 1: Accuracy = 0.85, Precision = 0.88, Recall = 0.87, F1 = 0.87, AUROC = 0.96, AUPRC = 0.97\n",
            "Fold 2: Accuracy = 0.85, Precision = 0.83, Recall = 0.94, F1 = 0.88, AUROC = 0.93, AUPRC = 0.95\n",
            "Fold 3: Accuracy = 0.83, Precision = 0.87, Recall = 0.85, F1 = 0.86, AUROC = 0.88, AUPRC = 0.91\n",
            "Fold 4: Accuracy = 0.85, Precision = 0.87, Recall = 0.89, F1 = 0.88, AUROC = 0.91, AUPRC = 0.95\n",
            "Fold 5: Accuracy = 0.91, Precision = 0.91, Recall = 0.95, F1 = 0.93, AUROC = 0.93, AUPRC = 0.96\n",
            "Mean Accuracy: 0.86, Mean Precision: 0.87, Mean Recall: 0.90, Mean F1: 0.89, Mean AUROC: 0.92, Mean AUPRC: 0.95\n",
            "\n",
            "KNN:\n",
            "Fold 1: Accuracy = 0.81, Precision = 0.81, Recall = 0.90, F1 = 0.85, AUROC = 0.93, AUPRC = 0.95\n",
            "Fold 2: Accuracy = 0.76, Precision = 0.74, Recall = 0.90, F1 = 0.81, AUROC = 0.92, AUPRC = 0.96\n",
            "Fold 3: Accuracy = 0.74, Precision = 0.75, Recall = 0.91, F1 = 0.82, AUROC = 0.86, AUPRC = 0.92\n",
            "Fold 4: Accuracy = 0.79, Precision = 0.78, Recall = 0.92, F1 = 0.84, AUROC = 0.92, AUPRC = 0.96\n",
            "Fold 5: Accuracy = 0.85, Precision = 0.84, Recall = 0.95, F1 = 0.89, AUROC = 0.91, AUPRC = 0.94\n",
            "Mean Accuracy: 0.79, Mean Precision: 0.78, Mean Recall: 0.92, Mean F1: 0.84, Mean AUROC: 0.91, Mean AUPRC: 0.94\n",
            "\n",
            "NB:\n",
            "Fold 1: Accuracy = 0.83, Precision = 0.88, Recall = 0.83, F1 = 0.85, AUROC = 0.92, AUPRC = 0.94\n",
            "Fold 2: Accuracy = 0.71, Precision = 0.78, Recall = 0.71, F1 = 0.74, AUROC = 0.81, AUPRC = 0.83\n",
            "Fold 3: Accuracy = 0.70, Precision = 0.80, Recall = 0.71, F1 = 0.75, AUROC = 0.81, AUPRC = 0.89\n",
            "Fold 4: Accuracy = 0.78, Precision = 0.85, Recall = 0.77, F1 = 0.81, AUROC = 0.88, AUPRC = 0.93\n",
            "Fold 5: Accuracy = 0.68, Precision = 0.78, Recall = 0.71, F1 = 0.75, AUROC = 0.78, AUPRC = 0.84\n",
            "Mean Accuracy: 0.74, Mean Precision: 0.82, Mean Recall: 0.75, Mean F1: 0.78, Mean AUROC: 0.84, Mean AUPRC: 0.89\n",
            "\n",
            "GBD:\n",
            "Fold 1: Accuracy = 0.90, Precision = 0.92, Recall = 0.90, F1 = 0.91, AUROC = 0.97, AUPRC = 0.98\n",
            "Fold 2: Accuracy = 0.84, Precision = 0.81, Recall = 0.94, F1 = 0.87, AUROC = 0.91, AUPRC = 0.94\n",
            "Fold 3: Accuracy = 0.81, Precision = 0.85, Recall = 0.85, F1 = 0.85, AUROC = 0.88, AUPRC = 0.87\n",
            "Fold 4: Accuracy = 0.82, Precision = 0.84, Recall = 0.89, F1 = 0.86, AUROC = 0.91, AUPRC = 0.95\n",
            "Fold 5: Accuracy = 0.82, Precision = 0.87, Recall = 0.86, F1 = 0.86, AUROC = 0.92, AUPRC = 0.95\n",
            "Mean Accuracy: 0.84, Mean Precision: 0.86, Mean Recall: 0.89, Mean F1: 0.87, Mean AUROC: 0.92, Mean AUPRC: 0.94\n",
=======
            "Fold 1: Accuracy = 0.87, Precision = 0.90, Recall = 0.88, F1 = 0.89, AUROC = 0.89, AUPRC = 0.91\n",
            "Fold 2: Accuracy = 0.81, Precision = 0.79, Recall = 0.92, F1 = 0.85, AUROC = 0.92, AUPRC = 0.94\n",
            "Fold 3: Accuracy = 0.86, Precision = 0.89, Recall = 0.89, F1 = 0.89, AUROC = 0.94, AUPRC = 0.95\n",
            "Fold 4: Accuracy = 0.81, Precision = 0.86, Recall = 0.86, F1 = 0.86, AUROC = 0.84, AUPRC = 0.90\n",
            "Fold 5: Accuracy = 0.86, Precision = 0.91, Recall = 0.88, F1 = 0.89, AUROC = 0.89, AUPRC = 0.91\n",
            "Mean Accuracy: 0.84, Mean Precision: 0.87, Mean Recall: 0.88, Mean F1: 0.88, Mean AUROC: 0.89, Mean AUPRC: 0.92\n",
            "\n",
            "Random Forest Classifier:\n",
            "Fold 1: Accuracy = 0.83, Precision = 0.83, Recall = 0.88, F1 = 0.86, AUROC = 0.89, AUPRC = 0.90\n",
            "Fold 2: Accuracy = 0.83, Precision = 0.77, Recall = 0.98, F1 = 0.86, AUROC = 0.94, AUPRC = 0.95\n",
            "Fold 3: Accuracy = 0.91, Precision = 0.91, Recall = 0.94, F1 = 0.93, AUROC = 0.96, AUPRC = 0.98\n",
            "Fold 4: Accuracy = 0.87, Precision = 0.90, Recall = 0.91, F1 = 0.90, AUROC = 0.91, AUPRC = 0.95\n",
            "Fold 5: Accuracy = 0.85, Precision = 0.92, Recall = 0.84, F1 = 0.88, AUROC = 0.94, AUPRC = 0.97\n",
            "Mean Accuracy: 0.86, Mean Precision: 0.87, Mean Recall: 0.91, Mean F1: 0.89, Mean AUROC: 0.93, Mean AUPRC: 0.95\n",
            "\n",
            "KNN:\n",
            "Fold 1: Accuracy = 0.73, Precision = 0.73, Recall = 0.88, F1 = 0.80, AUROC = 0.89, AUPRC = 0.92\n",
            "Fold 2: Accuracy = 0.78, Precision = 0.73, Recall = 0.96, F1 = 0.83, AUROC = 0.94, AUPRC = 0.95\n",
            "Fold 3: Accuracy = 0.79, Precision = 0.79, Recall = 0.91, F1 = 0.84, AUROC = 0.93, AUPRC = 0.97\n",
            "Fold 4: Accuracy = 0.84, Precision = 0.85, Recall = 0.91, F1 = 0.88, AUROC = 0.89, AUPRC = 0.94\n",
            "Fold 5: Accuracy = 0.82, Precision = 0.89, Recall = 0.84, F1 = 0.87, AUROC = 0.93, AUPRC = 0.97\n",
            "Mean Accuracy: 0.79, Mean Precision: 0.80, Mean Recall: 0.90, Mean F1: 0.84, Mean AUROC: 0.91, Mean AUPRC: 0.95\n",
            "\n",
            "NB:\n",
            "Fold 1: Accuracy = 0.77, Precision = 0.79, Recall = 0.82, F1 = 0.81, AUROC = 0.84, AUPRC = 0.88\n",
            "Fold 2: Accuracy = 0.80, Precision = 0.92, Recall = 0.71, F1 = 0.80, AUROC = 0.92, AUPRC = 0.94\n",
            "Fold 3: Accuracy = 0.79, Precision = 0.87, Recall = 0.77, F1 = 0.82, AUROC = 0.89, AUPRC = 0.93\n",
            "Fold 4: Accuracy = 0.74, Precision = 0.82, Recall = 0.79, F1 = 0.80, AUROC = 0.83, AUPRC = 0.88\n",
            "Fold 5: Accuracy = 0.74, Precision = 0.85, Recall = 0.76, F1 = 0.80, AUROC = 0.78, AUPRC = 0.85\n",
            "Mean Accuracy: 0.77, Mean Precision: 0.85, Mean Recall: 0.77, Mean F1: 0.81, Mean AUROC: 0.86, Mean AUPRC: 0.89\n",
>>>>>>> 88e7e5ff0d151825323fd9a2d216bca31d7b65db
            "\n"
          ]
        }
      ],
      "source": [
        "from sklearn.preprocessing import MinMaxScaler\n",
        "from sklearn.model_selection import KFold\n",
        "from sklearn.metrics import (\n",
        "    accuracy_score,\n",
        "    precision_score,\n",
        "    recall_score,\n",
        "    f1_score,\n",
        "    roc_curve,\n",
        "    roc_auc_score,\n",
        "    precision_recall_curve,\n",
        "    auc\n",
        ")\n",
        "from sklearn.svm import SVC\n",
        "from sklearn.neural_network import MLPClassifier\n",
        "from sklearn.ensemble import ExtraTreesClassifier, RandomForestClassifier, GradientBoostingClassifier\n",
        "import numpy as np\n",
        "from sklearn.naive_bayes import ComplementNB\n",
        "from sklearn.neighbors import KNeighborsClassifier\n",
        "import seaborn as sns\n",
        "from imblearn.over_sampling import SVMSMOTE\n",
        "X = X[top_features]\n",
        "\n",
        "\n",
        "\n",
        "classifiers = [\n",
        "    (\"Extra Trees Classifier\", ExtraTreesClassifier(\n",
        "        n_estimators=500, random_state=42)),\n",
        "    (\"SVC\", SVC(kernel='rbf', C=10, gamma='auto', probability=True, random_state=42)),\n",
        "    (\"MLP\", MLPClassifier(hidden_layer_sizes=(200, 45),\n",
        "                          activation='relu',\n",
        "                          solver='adam',\n",
        "                          batch_size=128,\n",
        "                          max_iter=200,\n",
        "                          random_state=42)),\n",
        "    (\"Random Forest Classifier\", RandomForestClassifier(\n",
        "        n_estimators=500, random_state=42)),\n",
        "    (\"KNN\", KNeighborsClassifier(n_neighbors=25)),\n",
        "    (\"NB\", ComplementNB()),\n",
        "    (\"GBD\", GradientBoostingClassifier(\n",
        "        n_estimators=500, learning_rate=0.1, random_state=42))\n",
        "    # Add more classifiers if needed\n",
        "]\n",
        "\n",
        "for name, clf in classifiers:\n",
        "    scores = []\n",
        "    precisions = []\n",
        "    recalls = []\n",
        "    f1_scores = []\n",
        "    aurocs = []\n",
        "    auprcs = []  # New list for AUPRC\n",
        "    tprs = []\n",
        "    fprs = []\n",
        "\n",
        "    kf = KFold(n_splits=5, shuffle=True, random_state=42)\n",
        "    for i, (train_index, val_index) in enumerate(kf.split(X)):\n",
        "\n",
        "        X_train, X_val = X.iloc[train_index], X.iloc[val_index]\n",
        "        y_train, y_val = y.iloc[train_index], y.iloc[val_index]\n",
        "\n",
        "        # Train the MinMaxScaler on the training set for this fold\n",
        "        scaler = MinMaxScaler()\n",
        "        X_train_scaled = scaler.fit_transform(X_train)\n",
        "\n",
        "        # Use the trained scaler to scale the validation set for this fold\n",
        "        X_val_scaled = scaler.transform(X_val)\n",
        "\n",
        "        clf.fit(X_train_scaled, y_train)\n",
        "        y_pred = clf.predict(X_val_scaled)\n",
        "\n",
        "        scores.append(accuracy_score(y_val, y_pred))\n",
        "        precisions.append(precision_score(y_val, y_pred))\n",
        "        recalls.append(recall_score(y_val, y_pred))\n",
        "        f1_scores.append(f1_score(y_val, y_pred))\n",
        "\n",
        "        # Calculate AUROC\n",
        "        y_pred_proba = clf.predict_proba(X_val_scaled)[:, 1]\n",
        "        fpr, tpr, thresholds = roc_curve(y_val, y_pred_proba)\n",
        "        auroc = roc_auc_score(y_val, y_pred_proba)\n",
        "        aurocs.append(auroc)\n",
        "        tprs.append(tpr)\n",
        "        fprs.append(fpr)\n",
        "\n",
        "        # Calculate AUPRC\n",
        "        precision, recall, _ = precision_recall_curve(y_val, y_pred_proba)\n",
        "        auprc = auc(recall, precision)\n",
        "        auprcs.append(auprc)\n",
        "\n",
        "    print(f\"{name}:\")\n",
        "    for i in range(5):\n",
        "        print(\n",
        "            f\"Fold {i+1}: Accuracy = {scores[i]:.2f}, Precision = {precisions[i]:.2f}, Recall = {recalls[i]:.2f}, F1 = {f1_scores[i]:.2f}, AUROC = {aurocs[i]:.2f}, AUPRC = {auprcs[i]:.2f}\")\n",
        "    print(f\"Mean Accuracy: {np.mean(scores):.2f}, Mean Precision: {np.mean(precisions):.2f}, Mean Recall: {np.mean(recalls):.2f}, Mean F1: {np.mean(f1_scores):.2f}, Mean AUROC: {np.mean(aurocs):.2f}, Mean AUPRC: {np.mean(auprcs):.2f}\\n\")"
      ]
    },
    {
      "cell_type": "markdown",
      "metadata": {
        "id": "URYdMsfKf4Zr"
      },
      "source": [
        "## Testing on Shirafkan and independent dataset.🎯"
      ]
    },
    {
      "cell_type": "markdown",
      "metadata": {
        "id": "s408-FSKf4Zs"
      },
      "source": [
        "## Top biological feature for other datasets and\n",
        "## combining them with previous features\n"
      ]
    },
    {
      "cell_type": "code",
<<<<<<< HEAD
      "execution_count": 27,
=======
      "execution_count": null,
>>>>>>> 88e7e5ff0d151825323fd9a2d216bca31d7b65db
      "metadata": {
        "colab": {
          "base_uri": "https://localhost:8080/"
        },
        "id": "iGco3xuLf4Zr",
        "outputId": "9a3f959c-9b73-4f4e-89eb-d7ef62fa532a"
      },
      "outputs": [
        {
          "name": "stdout",
          "output_type": "stream",
          "text": [
            "                       #         A         C         D         E         F  \\\n",
<<<<<<< HEAD
            "0  sp|P31170|HS25P_ARATH  0.039648  0.008811  0.074890  0.066079  0.030837   \n",
            "1   sp|P93834|HXK2_ARATH  0.085657  0.007968  0.059761  0.069721  0.037849   \n",
            "2   sp|Q1WM16|HXK7_ORYSJ  0.114471  0.008639  0.051836  0.079914  0.032397   \n",
            "3   sp|O81829|GH35_ARATH  0.039216  0.022876  0.049020  0.073529  0.040850   \n",
            "4   sp|Q8VZ59|YUC6_ARATH  0.059952  0.031175  0.050360  0.067146  0.052758   \n",
            "\n",
            "          G         H         I         K  ...  solventaccess.2.residue0  \\\n",
            "0  0.057269  0.004405  0.057269  0.079295  ...                 11.013216   \n",
            "1  0.085657  0.023904  0.059761  0.065737  ...                  0.597610   \n",
            "2  0.088553  0.012959  0.064795  0.053996  ...                  2.159827   \n",
            "3  0.050654  0.013072  0.057190  0.063725  ...                  0.490196   \n",
            "4  0.093525  0.021583  0.050360  0.071942  ...                  0.479616   \n",
            "\n",
            "   solventaccess.2.residue25  solventaccess.2.residue50  \\\n",
            "0                  30.837004                  58.590308   \n",
            "1                  25.298805                  51.992032   \n",
            "2                  26.997840                  52.051836   \n",
            "3                  15.359477                  45.261438   \n",
            "4                  27.338129                  53.237410   \n",
            "\n",
            "   solventaccess.2.residue75  solventaccess.2.residue100  \\\n",
            "0                  76.211454                  100.000000   \n",
            "1                  76.294821                   99.601594   \n",
            "2                  74.946004                  100.000000   \n",
            "3                  72.875817                  100.000000   \n",
            "4                  79.616307                   99.760192   \n",
            "\n",
            "   solventaccess.3.residue0  solventaccess.3.residue25  \\\n",
            "0                  0.440529                  12.775330   \n",
            "1                  0.199203                  27.290837   \n",
            "2                  0.215983                  28.509719   \n",
            "3                  0.163399                  27.124183   \n",
            "4                  0.239808                  19.424460   \n",
            "\n",
            "   solventaccess.3.residue50  solventaccess.3.residue75  \\\n",
            "0                  40.088106                  61.674009   \n",
            "1                  54.581673                  73.505976   \n",
            "2                  53.347732                  72.570194   \n",
            "3                  50.000000                  74.836601   \n",
            "4                  41.726619                  68.585132   \n",
            "\n",
            "   solventaccess.3.residue100  \n",
            "0                   94.713656  \n",
            "1                  100.000000  \n",
            "2                   99.568035  \n",
            "3                   99.836601  \n",
            "4                   97.122302  \n",
            "\n",
            "[5 rows x 698 columns]\n",
            "258\n"
=======
            "0  sp|P30041|PRDX6_HUMAN  0.071429  0.008929  0.071429  0.071429  0.053571   \n",
            "1   sp|P06733|ENOA_HUMAN  0.099078  0.013825  0.059908  0.066820  0.039171   \n",
            "2   sp|P13716|HEM2_HUMAN  0.121212  0.024242  0.054545  0.060606  0.036364   \n",
            "3  sp|P09960|LKHA4_HUMAN  0.062193  0.018003  0.055646  0.067103  0.044190   \n",
            "4  sp|O60568|PLOD3_HUMAN  0.047425  0.013550  0.066396  0.066396  0.050136   \n",
            "\n",
            "          G         H         I         K  ...  solventaccess.2.residue0  \\\n",
            "0  0.062500  0.013393  0.053571  0.080357  ...                  4.017857   \n",
            "1  0.087558  0.013825  0.062212  0.087558  ...                  1.152074   \n",
            "2  0.069697  0.027273  0.036364  0.036364  ...                  0.606061   \n",
            "3  0.049100  0.026187  0.050736  0.065466  ...                  0.490998   \n",
            "4  0.077236  0.031165  0.031165  0.033875  ...                  1.219512   \n",
            "\n",
            "   solventaccess.2.residue25  solventaccess.2.residue50  \\\n",
            "0                  29.017857                  48.660714   \n",
            "1                  23.502304                  50.921659   \n",
            "2                  26.666667                  51.212121   \n",
            "3                  25.204583                  53.518822   \n",
            "4                  25.880759                  50.135501   \n",
            "\n",
            "   solventaccess.2.residue75  solventaccess.2.residue100  \\\n",
            "0                  76.785714                   99.553571   \n",
            "1                  75.345622                  100.000000   \n",
            "2                  73.939394                  100.000000   \n",
            "3                  79.050736                  100.000000   \n",
            "4                  72.628726                   99.864499   \n",
            "\n",
            "   solventaccess.3.residue0  solventaccess.3.residue25  \\\n",
            "0                  0.446429                  21.428571   \n",
            "1                  0.230415                  18.202765   \n",
            "2                  0.303030                  15.454545   \n",
            "3                  0.163666                  21.440262   \n",
            "4                  0.135501                  26.964770   \n",
            "\n",
            "   solventaccess.3.residue50  solventaccess.3.residue75  \\\n",
            "0                  53.125000                  79.464286   \n",
            "1                  47.235023                  67.972350   \n",
            "2                  44.242424                  69.090909   \n",
            "3                  44.844517                  70.540098   \n",
            "4                  56.504065                  80.623306   \n",
            "\n",
            "   solventaccess.3.residue100  \n",
            "0                  100.000000  \n",
            "1                   99.308756  \n",
            "2                   97.272727  \n",
            "3                   98.527005  \n",
            "4                  100.000000  \n",
            "\n",
            "[5 rows x 698 columns]\n",
            "351\n"
>>>>>>> 88e7e5ff0d151825323fd9a2d216bca31d7b65db
          ]
        }
      ],
      "source": [
        "df1 = pd.read_csv(\n",
<<<<<<< HEAD
        "    \"C:\\\\Users\\\\Lenovo\\\\Desktop\\\\ilearn\\\\iFeature\\\\outputPlantPos1.csv\", sep='\\t')\n",
        "df2 = pd.read_csv(\n",
        "    \"C:\\\\Users\\\\Lenovo\\\\Desktop\\\\ilearn\\\\iFeature\\\\outputPlantPos2.csv\", sep='\\t')\n",
        "df3 = pd.read_csv(\n",
        "    \"C:\\\\Users\\\\Lenovo\\\\Desktop\\\\ilearn\\\\iFeature\\\\outputPlantPos3.csv\", sep='\\t')\n",
        "df4 = pd.read_csv(\n",
        "    \"C:\\\\Users\\\\Lenovo\\\\Desktop\\\\ilearn\\\\iFeature\\\\outputPlantPos4.csv\", sep='\\t')\n",
        "df5 = pd.read_csv(\n",
        "    \"C:\\\\Users\\\\Lenovo\\\\Desktop\\\\ilearn\\\\iFeature\\\\outputPlantPos5.csv\", sep='\\t')\n",
        "\n",
        "\n",
        "\n",
        "df_class1 = pd.concat([df1, df2, df3, df4, df5], axis=1)\n",
        "\n",
        "\n",
        "\n",
        "print(df_class1.head())\n",
        "\n",
        "\n",
        "\n",
        "df1 = pd.read_csv(\n",
        "    \"C:\\\\Users\\\\Lenovo\\\\Desktop\\\\ilearn\\\\iFeature\\\\outputPlantNeg1.csv\", sep='\\t')\n",
        "df2 = pd.read_csv(\n",
        "    \"C:\\\\Users\\\\Lenovo\\\\Desktop\\\\ilearn\\\\iFeature\\\\outputPlantNeg2.csv\", sep='\\t')\n",
        "df3 = pd.read_csv(\n",
        "    \"C:\\\\Users\\\\Lenovo\\\\Desktop\\\\ilearn\\\\iFeature\\\\outputPlantNeg3.csv\", sep='\\t')\n",
        "df4 = pd.read_csv(\n",
        "    \"C:\\\\Users\\\\Lenovo\\\\Desktop\\\\ilearn\\\\iFeature\\\\outputPlantNeg4.csv\", sep='\\t')\n",
        "df5 = pd.read_csv(\n",
        "    \"C:\\\\Users\\\\Lenovo\\\\Desktop\\\\ilearn\\\\iFeature\\\\outputPlantNeg5.csv\", sep='\\t')\n",
        "\n",
        "\n",
=======
        "    \"..\\\\Data\\\\Biological Features\\\\outputShp.csv\", sep='\\t')\n",
        "df2 = pd.read_csv(\n",
        "    \"..\\\\Data\\\\Biological Features\\\\outputShp2.csv\", sep='\\t')\n",
        "df3 = pd.read_csv(\n",
        "    \"..\\\\Data\\\\Biological Features\\\\outputShp3.csv\", sep='\\t')\n",
        "df4 = pd.read_csv(\n",
        "    \"..\\\\Data\\\\Biological Features\\\\outputShp4.csv\", sep='\\t')\n",
        "df5 = pd.read_csv(\n",
        "    \"..\\\\Data\\\\Biological Features\\\\outputShp5.csv\", sep='\\t')\n",
        "\n",
        "df_class1 = pd.concat([df1, df2, df3, df4, df5], axis=1)\n",
        "\n",
        "print(df_class1.head())\n",
        "\n",
        "\n",
        "df1 = pd.read_csv(\n",
        "    \"..\\\\Data\\\\Biological Features\\\\outputNsh1.csv\", sep='\\t')\n",
        "df2 = pd.read_csv(\n",
        "    \"..\\\\Data\\\\Biological Features\\\\outputNsh2.csv\", sep='\\t')\n",
        "df3 = pd.read_csv(\n",
        "    \"..\\\\Data\\\\Biological Features\\\\outputNsh3.csv\", sep='\\t')\n",
        "df4 = pd.read_csv(\n",
        "    \"..\\\\Data\\\\Biological Features\\\\outputNsh4.csv\", sep='\\t')\n",
        "df5 = pd.read_csv(\n",
        "    \"..\\\\Data\\\\Biological Features\\\\outputNsh5.csv\", sep='\\t')\n",
>>>>>>> 88e7e5ff0d151825323fd9a2d216bca31d7b65db
        "\n",
        "df_class2 = pd.concat([df1, df2, df3, df4, df5], axis=1)\n",
        "\n",
        "\n",
<<<<<<< HEAD
        "\n",
        "\n",
        "independent_df = pd.concat([df_class1, df_class2], axis=0)\n",
        "\n",
        "print(len(independent_df))"
=======
        "independent_df = pd.concat([df_class1, df_class2], axis=0)\n",
        "\n",
        "print(len(independent_df))\n"
>>>>>>> 88e7e5ff0d151825323fd9a2d216bca31d7b65db
      ]
    },
    {
      "cell_type": "code",
<<<<<<< HEAD
      "execution_count": 28,
=======
      "execution_count": 27,
>>>>>>> 88e7e5ff0d151825323fd9a2d216bca31d7b65db
      "metadata": {
        "colab": {
          "base_uri": "https://localhost:8080/"
        },
        "id": "IPzZo9o7f4Zs",
        "outputId": "c219fa9a-846f-4bd2-c128-51baec20404e"
      },
      "outputs": [
        {
          "name": "stdout",
          "output_type": "stream",
          "text": [
<<<<<<< HEAD
            "258\n"
=======
            "351\n"
>>>>>>> 88e7e5ff0d151825323fd9a2d216bca31d7b65db
          ]
        }
      ],
      "source": [
        "df_top8 = pd.read_csv(\n",
<<<<<<< HEAD
        "    \"C:\\\\Users\\\\Lenovo\\\\Desktop\\\\Moonlight Protein\\\\Top8Plant.tsv\", sep='\\t')\n",
        "\n",
        "\n",
        "independent_df = pd.concat([df_class1, df_class2], axis=0)\n",
        "\n",
        "\n",
        "# independent_df = df_class1 for cleaned up dataset\n",
        "\n",
        "\n",
        "print(len(independent_df))  # check the resulting DataFrame\n",
        "\n",
        "\n",
        "independent_df = independent_df.reset_index(drop=True)\n",
        "\n",
        "df_top8 = df_top8.reset_index(drop=True)\n",
        "\n",
        "independent_df = pd.concat([independent_df, df_top8], axis=1)\n",
        "\n",
        "\n",
        "independent_df['target'] = [1] * 103 + [0] * 155\n",
        "\n",
        "\n",
        "# independent_df['target'] = [1] *66\n",
        "\n",
        "#for cleaned up dataset\n",
        "\n",
        "\n",
        "# Shuffle the data\n",
        "\n",
        "\n",
        "independent_df = independent_df.sample(frac=1).reset_index(drop=True)\n",
        "\n",
        "\n",
        "X_test = independent_df.drop(columns=['target', '#'])\n",
        "\n",
=======
        "    \"..\\\\Data\\\\Biological Features\\\\Top8Shirafkan.tsv\", sep='\\t')\n",
        "\n",
        "independent_df = pd.concat([df_class1, df_class2], axis=0)\n",
        "\n",
        "# independent_df = df_class1 for cleaned up dataset\n",
        "\n",
        "print(len(independent_df))  # check the resulting DataFrame\n",
        "\n",
        "independent_df = independent_df.reset_index(drop=True)\n",
        "df_top8 = df_top8.reset_index(drop=True)\n",
        "independent_df = pd.concat([independent_df, df_top8], axis=1)\n",
        "\n",
        "independent_df['target'] = [1] * 215 + [0] * 136\n",
        "\n",
        "# independent_df['target'] = [1] *66\n",
        "#for cleaned up dataset\n",
        "\n",
        "# Shuffle the data\n",
        "\n",
        "independent_df = independent_df.sample(frac=1).reset_index(drop=True)\n",
        "\n",
        "X_test = independent_df.drop(columns=['target', '#'])\n",
>>>>>>> 88e7e5ff0d151825323fd9a2d216bca31d7b65db
        "y_test = independent_df['target']"
      ]
    },
    {
      "cell_type": "code",
<<<<<<< HEAD
      "execution_count": 29,
=======
      "execution_count": 42,
>>>>>>> 88e7e5ff0d151825323fd9a2d216bca31d7b65db
      "metadata": {
        "id": "HuxA3oTEf4Zs"
      },
      "outputs": [],
      "source": [
        "# Ensure X_independent has the same columns in the same order as X_res\n",
        "X_test = X_test[top_features]"
      ]
    },
    {
      "cell_type": "code",
<<<<<<< HEAD
      "execution_count": 31,
=======
      "execution_count": null,
>>>>>>> 88e7e5ff0d151825323fd9a2d216bca31d7b65db
      "metadata": {
        "colab": {
          "base_uri": "https://localhost:8080/"
        },
        "id": "tNlZ1GUjf4Zs",
        "outputId": "1e84f219-548a-4130-e86d-2542816025a7"
      },
<<<<<<< HEAD
      "outputs": [
        {
          "name": "stderr",
          "output_type": "stream",
          "text": [
            "C:\\Users\\Lenovo\\AppData\\Roaming\\Python\\Python310\\site-packages\\sklearn\\neural_network\\_multilayer_perceptron.py:691: ConvergenceWarning: Stochastic Optimizer: Maximum iterations (200) reached and the optimization hasn't converged yet.\n",
            "  warnings.warn(\n"
          ]
        },
        {
          "name": "stdout",
          "output_type": "stream",
          "text": [
            "Extra Trees Classifier on Shirafkan Data:\n",
            "Accuracy: 0.461, Precision: 0.392, Recall: 0.631, F1: 0.483, AUROC: 0.519, AUPRC: 0.448\n",
            "\n",
            "SVC on Shirafkan Data:\n",
            "Accuracy: 0.504, Precision: 0.402, Recall: 0.495, F1: 0.443, AUROC: 0.507, AUPRC: 0.398\n",
            "\n",
            "MLP on Shirafkan Data:\n",
            "Accuracy: 0.570, Precision: 0.468, Recall: 0.573, F1: 0.515, AUROC: 0.596, AUPRC: 0.479\n",
            "\n",
            "Random Forest Classifier on Shirafkan Data:\n",
            "Accuracy: 0.477, Precision: 0.399, Recall: 0.612, F1: 0.483, AUROC: 0.523, AUPRC: 0.441\n",
            "\n",
            "KNN on Shirafkan Data:\n",
            "Accuracy: 0.492, Precision: 0.425, Recall: 0.767, F1: 0.547, AUROC: 0.553, AUPRC: 0.450\n",
            "\n",
            "NB on Shirafkan Data:\n",
            "Accuracy: 0.516, Precision: 0.366, Recall: 0.291, F1: 0.324, AUROC: 0.427, AUPRC: 0.374\n",
            "\n",
            "GBD on Shirafkan Data:\n",
            "Accuracy: 0.488, Precision: 0.380, Recall: 0.447, F1: 0.411, AUROC: 0.494, AUPRC: 0.435\n",
            "\n"
          ]
        }
      ],
      "source": [
        "# Import the Imputer\n",
        "from sklearn.impute import SimpleImputer\n",
        "import numpy as np\n",
        "\n",
        "# Assuming X, y are your entire first dataset (the training set)\n",
        "# and X_test, y_test are your independent test set.\n",
        "\n",
        "# Step 1: Handle missing values with an imputer\n",
        "# Fit the imputer on the training data (X) and transform both X and X_test\n",
        "imputer = SimpleImputer(missing_values=np.nan, strategy='mean')  # or 'median'\n",
        "X_imputed = imputer.fit_transform(X)\n",
        "X_test_imputed = imputer.transform(X_test)\n",
        "\n",
        "# Step 2: Scale the data\n",
        "# Fit the scaler on the imputed training data (X_imputed) and transform both\n",
        "scaler = MinMaxScaler()\n",
        "X_scaled = scaler.fit_transform(X_imputed)\n",
        "X_test_scaled = scaler.transform(X_test_imputed)\n",
        "\n",
        "\n",
        "# Train models on the entire first dataset\n",
        "for name, clf in classifiers:\n",
        "    # Train the classifier on the scaled, imputed data\n",
        "    clf.fit(X_scaled, y)\n",
        "\n",
        "# Evaluate models on the independent dataset\n",
        "for name, clf in classifiers:\n",
        "    # Make predictions on the scaled, imputed independent data\n",
        "    y_pred = clf.predict(X_test_scaled)\n",
        "    y_pred_proba = clf.predict_proba(X_test_scaled)[:, 1]\n",
=======
      "outputs": [],
      "source": [
        "# Train models on the entire first dataset\n",
        "for name, clf in classifiers:\n",
        "    \n",
        "\n",
        "    # Train the classifier\n",
        "    clf.fit(X, y)\n",
        "\n",
        "# Evaluate models on the independent dataset\n",
        "X_independent_scaled = scaler.transform(X_test)  # Scale the independent data\n",
        "\n",
        "for name, clf in classifiers:\n",
        "    # Make predictions on the independent data\n",
        "    y_pred = clf.predict(X_independent_scaled)\n",
        "    y_pred_proba = clf.predict_proba(X_independent_scaled)[:, 1]\n",
>>>>>>> 88e7e5ff0d151825323fd9a2d216bca31d7b65db
        "\n",
        "    # Compute evaluation metrics\n",
        "    accuracy = accuracy_score(y_test, y_pred)\n",
        "    precision = precision_score(y_test, y_pred)\n",
        "    recall = recall_score(y_test, y_pred)\n",
        "    f1 = f1_score(y_test, y_pred)\n",
        "    auroc = roc_auc_score(y_test, y_pred_proba)\n",
<<<<<<< HEAD
        "    precision_curve, recall_curve, _ = precision_recall_curve(\n",
        "        y_test, y_pred_proba)\n",
=======
        "    precision_curve, recall_curve, _ = precision_recall_curve(y_test, y_pred_proba)\n",
>>>>>>> 88e7e5ff0d151825323fd9a2d216bca31d7b65db
        "    auprc = auc(recall_curve, precision_curve)\n",
        "\n",
        "    # Print metrics\n",
        "    print(f\"{name} on Shirafkan Data:\")\n",
<<<<<<< HEAD
        "    print(f\"Accuracy: {accuracy:.3f}, Precision: {precision:.3f}, Recall: {recall:.3f}, F1: {f1:.3f}, AUROC: {auroc:.3f}, AUPRC: {auprc:.3f}\\n\")"
=======
        "    print(f\"Accuracy: {accuracy:.2f}, Precision: {precision:.2f}, Recall: {recall:.2f}, F1: {f1:.2f}, AUROC: {auroc:.2f}, AUPRC: {auprc:.2f}\\n\")"
>>>>>>> 88e7e5ff0d151825323fd9a2d216bca31d7b65db
      ]
    }
  ],
  "metadata": {
    "colab": {
      "provenance": []
    },
    "kernelspec": {
      "display_name": "Python 3",
      "name": "python3"
    },
    "language_info": {
      "codemirror_mode": {
        "name": "ipython",
        "version": 3
      },
      "file_extension": ".py",
      "mimetype": "text/x-python",
      "name": "python",
      "nbconvert_exporter": "python",
      "pygments_lexer": "ipython3",
      "version": "3.10.11"
    }
  },
  "nbformat": 4,
  "nbformat_minor": 0
}
